{
  "nbformat": 4,
  "nbformat_minor": 0,
  "metadata": {
    "colab": {
      "name": "MiniProject_FA_BodyPerformance.ipynb",
      "provenance": [],
      "authorship_tag": "ABX9TyMaKOCkJLIUrXDl51T1fRX8",
      "include_colab_link": true
    },
    "kernelspec": {
      "name": "python3",
      "display_name": "Python 3"
    },
    "language_info": {
      "name": "python"
    }
  },
  "cells": [
    {
      "cell_type": "markdown",
      "metadata": {
        "id": "view-in-github",
        "colab_type": "text"
      },
      "source": [
        "<a href=\"https://colab.research.google.com/github/SahilK-027/Factor-Analysis-Mini-Project/blob/main/MiniProject_FA_BodyPerformance.ipynb\" target=\"_parent\"><img src=\"https://colab.research.google.com/assets/colab-badge.svg\" alt=\"Open In Colab\"/></a>"
      ]
    },
    {
      "cell_type": "markdown",
      "source": [
        "# **Use Factor Analysis To reduce Dimentionality & Interpret The Factors**\n",
        "\n",
        "\n",
        "\n",
        "---\n",
        "\n",
        "\n",
        "The goal of factor analysis **is to describe** variability among **correlated variables** in **fewer variables called factors.** \n",
        " It is based on the idea that there exist some “latent” factors , which can describe multiple variables in our data.\n",
        "\n",
        "# **AIM ▶**\n",
        "To use factor analysis to reduce the dimentionality of this data which has **12 Variable** and reduce those 12 variables to **3 factors**.\n",
        "\n",
        "# **Topics ▶**\n",
        "🔷 Importing Data ▶\n",
        "\n",
        "🔷 Graphical Visualization ▶\n",
        "\n",
        "🔷 Adequacy Test ▶\n",
        "\n",
        "1) Bartlett’s test ▶\n",
        "\n",
        "2) Kaiser-Meyer-Olkin (KMO) Test ▶\n",
        "\n",
        "🔷 Factor Analysis ▶\n",
        "\n",
        "How many factors ?\n",
        "\n",
        "🔷 Factor Loading AND Interpret the factors ▶\n",
        "\n",
        "\n",
        "\n"
      ],
      "metadata": {
        "id": "NSJOywMYZ07j"
      }
    },
    {
      "cell_type": "code",
      "execution_count": null,
      "metadata": {
        "id": "MWEu4tq99dlH",
        "colab": {
          "base_uri": "https://localhost:8080/"
        },
        "outputId": "40127b3a-0d7d-4ff4-cda0-03b00f1dde9e"
      },
      "outputs": [
        {
          "output_type": "stream",
          "name": "stdout",
          "text": [
            "Collecting factor_analyzer\n",
            "  Downloading factor_analyzer-0.4.0.tar.gz (41 kB)\n",
            "\u001b[?25l\r\u001b[K     |███████▉                        | 10 kB 20.1 MB/s eta 0:00:01\r\u001b[K     |███████████████▊                | 20 kB 22.8 MB/s eta 0:00:01\r\u001b[K     |███████████████████████▋        | 30 kB 27.5 MB/s eta 0:00:01\r\u001b[K     |███████████████████████████████▌| 40 kB 30.8 MB/s eta 0:00:01\r\u001b[K     |████████████████████████████████| 41 kB 494 kB/s \n",
            "\u001b[?25hRequirement already satisfied: pandas in /usr/local/lib/python3.7/dist-packages (from factor_analyzer) (1.1.5)\n",
            "Requirement already satisfied: scipy in /usr/local/lib/python3.7/dist-packages (from factor_analyzer) (1.4.1)\n",
            "Requirement already satisfied: numpy in /usr/local/lib/python3.7/dist-packages (from factor_analyzer) (1.19.5)\n",
            "Requirement already satisfied: scikit-learn in /usr/local/lib/python3.7/dist-packages (from factor_analyzer) (1.0.1)\n",
            "Requirement already satisfied: pytz>=2017.2 in /usr/local/lib/python3.7/dist-packages (from pandas->factor_analyzer) (2018.9)\n",
            "Requirement already satisfied: python-dateutil>=2.7.3 in /usr/local/lib/python3.7/dist-packages (from pandas->factor_analyzer) (2.8.2)\n",
            "Requirement already satisfied: six>=1.5 in /usr/local/lib/python3.7/dist-packages (from python-dateutil>=2.7.3->pandas->factor_analyzer) (1.15.0)\n",
            "Requirement already satisfied: threadpoolctl>=2.0.0 in /usr/local/lib/python3.7/dist-packages (from scikit-learn->factor_analyzer) (3.0.0)\n",
            "Requirement already satisfied: joblib>=0.11 in /usr/local/lib/python3.7/dist-packages (from scikit-learn->factor_analyzer) (1.1.0)\n",
            "Building wheels for collected packages: factor-analyzer\n",
            "  Building wheel for factor-analyzer (setup.py) ... \u001b[?25l\u001b[?25hdone\n",
            "  Created wheel for factor-analyzer: filename=factor_analyzer-0.4.0-py3-none-any.whl size=41455 sha256=9d8fa777f312bf4ba8abb6360a878dc49c5f3bfa8988fd3a5256643f5180c3a4\n",
            "  Stored in directory: /root/.cache/pip/wheels/ac/00/37/1f0e8a5039f9e9f207c4405bbce0796f07701eb377bfc6cc76\n",
            "Successfully built factor-analyzer\n",
            "Installing collected packages: factor-analyzer\n",
            "Successfully installed factor-analyzer-0.4.0\n"
          ]
        }
      ],
      "source": [
        "pip install factor_analyzer"
      ]
    },
    {
      "cell_type": "code",
      "source": [
        "#Importing required modules\n",
        "import pandas as pd #n Pandas is a Python library for data analysis\n",
        "import sklearn.datasets # Statistical tools like classification, regression, clustering and dimensionality reduction\n",
        "from factor_analyzer import FactorAnalyzer \n",
        "import matplotlib.pyplot as plt #Plotting graphs\n",
        "import seaborn as sns # for data visualization in better graphics\n",
        "import numpy as np # Mathematical calculations"
      ],
      "metadata": {
        "id": "pdaoqazh-EUI"
      },
      "execution_count": null,
      "outputs": []
    },
    {
      "cell_type": "code",
      "source": [
        "#Import File\n",
        "df= pd.read_csv(\"bodyPerformance.csv\")"
      ],
      "metadata": {
        "id": "C6oKlwYL-N-k"
      },
      "execution_count": null,
      "outputs": []
    },
    {
      "cell_type": "code",
      "source": [
        "df.head(10)"
      ],
      "metadata": {
        "colab": {
          "base_uri": "https://localhost:8080/",
          "height": 424
        },
        "id": "LAMaN23D-jIg",
        "outputId": "c1e5952f-ba29-44e0-e95e-a93cf9ef66e7"
      },
      "execution_count": null,
      "outputs": [
        {
          "output_type": "execute_result",
          "data": {
            "text/html": [
              "\n",
              "  <div id=\"df-c6e3a4ec-59dd-47a9-8645-36feda10c08c\">\n",
              "    <div class=\"colab-df-container\">\n",
              "      <div>\n",
              "<style scoped>\n",
              "    .dataframe tbody tr th:only-of-type {\n",
              "        vertical-align: middle;\n",
              "    }\n",
              "\n",
              "    .dataframe tbody tr th {\n",
              "        vertical-align: top;\n",
              "    }\n",
              "\n",
              "    .dataframe thead th {\n",
              "        text-align: right;\n",
              "    }\n",
              "</style>\n",
              "<table border=\"1\" class=\"dataframe\">\n",
              "  <thead>\n",
              "    <tr style=\"text-align: right;\">\n",
              "      <th></th>\n",
              "      <th>age</th>\n",
              "      <th>gender</th>\n",
              "      <th>height_cm</th>\n",
              "      <th>weight_kg</th>\n",
              "      <th>body fat_%</th>\n",
              "      <th>diastolic</th>\n",
              "      <th>systolic</th>\n",
              "      <th>gripForce</th>\n",
              "      <th>sit and bend forward_cm</th>\n",
              "      <th>sit-ups counts</th>\n",
              "      <th>broad jump_cm</th>\n",
              "      <th>class</th>\n",
              "    </tr>\n",
              "  </thead>\n",
              "  <tbody>\n",
              "    <tr>\n",
              "      <th>0</th>\n",
              "      <td>27.0</td>\n",
              "      <td>M</td>\n",
              "      <td>172.3</td>\n",
              "      <td>75.24</td>\n",
              "      <td>21.3</td>\n",
              "      <td>80.0</td>\n",
              "      <td>130.0</td>\n",
              "      <td>54.9</td>\n",
              "      <td>18.4</td>\n",
              "      <td>60.0</td>\n",
              "      <td>217.0</td>\n",
              "      <td>C</td>\n",
              "    </tr>\n",
              "    <tr>\n",
              "      <th>1</th>\n",
              "      <td>25.0</td>\n",
              "      <td>M</td>\n",
              "      <td>165.0</td>\n",
              "      <td>55.80</td>\n",
              "      <td>15.7</td>\n",
              "      <td>77.0</td>\n",
              "      <td>126.0</td>\n",
              "      <td>36.4</td>\n",
              "      <td>16.3</td>\n",
              "      <td>53.0</td>\n",
              "      <td>229.0</td>\n",
              "      <td>A</td>\n",
              "    </tr>\n",
              "    <tr>\n",
              "      <th>2</th>\n",
              "      <td>31.0</td>\n",
              "      <td>M</td>\n",
              "      <td>179.6</td>\n",
              "      <td>78.00</td>\n",
              "      <td>20.1</td>\n",
              "      <td>92.0</td>\n",
              "      <td>152.0</td>\n",
              "      <td>44.8</td>\n",
              "      <td>12.0</td>\n",
              "      <td>49.0</td>\n",
              "      <td>181.0</td>\n",
              "      <td>C</td>\n",
              "    </tr>\n",
              "    <tr>\n",
              "      <th>3</th>\n",
              "      <td>32.0</td>\n",
              "      <td>M</td>\n",
              "      <td>174.5</td>\n",
              "      <td>71.10</td>\n",
              "      <td>18.4</td>\n",
              "      <td>76.0</td>\n",
              "      <td>147.0</td>\n",
              "      <td>41.4</td>\n",
              "      <td>15.2</td>\n",
              "      <td>53.0</td>\n",
              "      <td>219.0</td>\n",
              "      <td>B</td>\n",
              "    </tr>\n",
              "    <tr>\n",
              "      <th>4</th>\n",
              "      <td>28.0</td>\n",
              "      <td>M</td>\n",
              "      <td>173.8</td>\n",
              "      <td>67.70</td>\n",
              "      <td>17.1</td>\n",
              "      <td>70.0</td>\n",
              "      <td>127.0</td>\n",
              "      <td>43.5</td>\n",
              "      <td>27.1</td>\n",
              "      <td>45.0</td>\n",
              "      <td>217.0</td>\n",
              "      <td>B</td>\n",
              "    </tr>\n",
              "    <tr>\n",
              "      <th>5</th>\n",
              "      <td>36.0</td>\n",
              "      <td>F</td>\n",
              "      <td>165.4</td>\n",
              "      <td>55.40</td>\n",
              "      <td>22.0</td>\n",
              "      <td>64.0</td>\n",
              "      <td>119.0</td>\n",
              "      <td>23.8</td>\n",
              "      <td>21.0</td>\n",
              "      <td>27.0</td>\n",
              "      <td>153.0</td>\n",
              "      <td>B</td>\n",
              "    </tr>\n",
              "    <tr>\n",
              "      <th>6</th>\n",
              "      <td>42.0</td>\n",
              "      <td>F</td>\n",
              "      <td>164.5</td>\n",
              "      <td>63.70</td>\n",
              "      <td>32.2</td>\n",
              "      <td>72.0</td>\n",
              "      <td>135.0</td>\n",
              "      <td>22.7</td>\n",
              "      <td>0.8</td>\n",
              "      <td>18.0</td>\n",
              "      <td>146.0</td>\n",
              "      <td>D</td>\n",
              "    </tr>\n",
              "    <tr>\n",
              "      <th>7</th>\n",
              "      <td>33.0</td>\n",
              "      <td>M</td>\n",
              "      <td>174.9</td>\n",
              "      <td>77.20</td>\n",
              "      <td>36.9</td>\n",
              "      <td>84.0</td>\n",
              "      <td>137.0</td>\n",
              "      <td>45.9</td>\n",
              "      <td>12.3</td>\n",
              "      <td>42.0</td>\n",
              "      <td>234.0</td>\n",
              "      <td>B</td>\n",
              "    </tr>\n",
              "    <tr>\n",
              "      <th>8</th>\n",
              "      <td>54.0</td>\n",
              "      <td>M</td>\n",
              "      <td>166.8</td>\n",
              "      <td>67.50</td>\n",
              "      <td>27.6</td>\n",
              "      <td>85.0</td>\n",
              "      <td>165.0</td>\n",
              "      <td>40.4</td>\n",
              "      <td>18.6</td>\n",
              "      <td>34.0</td>\n",
              "      <td>148.0</td>\n",
              "      <td>C</td>\n",
              "    </tr>\n",
              "    <tr>\n",
              "      <th>9</th>\n",
              "      <td>28.0</td>\n",
              "      <td>M</td>\n",
              "      <td>185.0</td>\n",
              "      <td>84.60</td>\n",
              "      <td>14.4</td>\n",
              "      <td>81.0</td>\n",
              "      <td>156.0</td>\n",
              "      <td>57.9</td>\n",
              "      <td>12.1</td>\n",
              "      <td>55.0</td>\n",
              "      <td>213.0</td>\n",
              "      <td>B</td>\n",
              "    </tr>\n",
              "  </tbody>\n",
              "</table>\n",
              "</div>\n",
              "      <button class=\"colab-df-convert\" onclick=\"convertToInteractive('df-c6e3a4ec-59dd-47a9-8645-36feda10c08c')\"\n",
              "              title=\"Convert this dataframe to an interactive table.\"\n",
              "              style=\"display:none;\">\n",
              "        \n",
              "  <svg xmlns=\"http://www.w3.org/2000/svg\" height=\"24px\"viewBox=\"0 0 24 24\"\n",
              "       width=\"24px\">\n",
              "    <path d=\"M0 0h24v24H0V0z\" fill=\"none\"/>\n",
              "    <path d=\"M18.56 5.44l.94 2.06.94-2.06 2.06-.94-2.06-.94-.94-2.06-.94 2.06-2.06.94zm-11 1L8.5 8.5l.94-2.06 2.06-.94-2.06-.94L8.5 2.5l-.94 2.06-2.06.94zm10 10l.94 2.06.94-2.06 2.06-.94-2.06-.94-.94-2.06-.94 2.06-2.06.94z\"/><path d=\"M17.41 7.96l-1.37-1.37c-.4-.4-.92-.59-1.43-.59-.52 0-1.04.2-1.43.59L10.3 9.45l-7.72 7.72c-.78.78-.78 2.05 0 2.83L4 21.41c.39.39.9.59 1.41.59.51 0 1.02-.2 1.41-.59l7.78-7.78 2.81-2.81c.8-.78.8-2.07 0-2.86zM5.41 20L4 18.59l7.72-7.72 1.47 1.35L5.41 20z\"/>\n",
              "  </svg>\n",
              "      </button>\n",
              "      \n",
              "  <style>\n",
              "    .colab-df-container {\n",
              "      display:flex;\n",
              "      flex-wrap:wrap;\n",
              "      gap: 12px;\n",
              "    }\n",
              "\n",
              "    .colab-df-convert {\n",
              "      background-color: #E8F0FE;\n",
              "      border: none;\n",
              "      border-radius: 50%;\n",
              "      cursor: pointer;\n",
              "      display: none;\n",
              "      fill: #1967D2;\n",
              "      height: 32px;\n",
              "      padding: 0 0 0 0;\n",
              "      width: 32px;\n",
              "    }\n",
              "\n",
              "    .colab-df-convert:hover {\n",
              "      background-color: #E2EBFA;\n",
              "      box-shadow: 0px 1px 2px rgba(60, 64, 67, 0.3), 0px 1px 3px 1px rgba(60, 64, 67, 0.15);\n",
              "      fill: #174EA6;\n",
              "    }\n",
              "\n",
              "    [theme=dark] .colab-df-convert {\n",
              "      background-color: #3B4455;\n",
              "      fill: #D2E3FC;\n",
              "    }\n",
              "\n",
              "    [theme=dark] .colab-df-convert:hover {\n",
              "      background-color: #434B5C;\n",
              "      box-shadow: 0px 1px 3px 1px rgba(0, 0, 0, 0.15);\n",
              "      filter: drop-shadow(0px 1px 2px rgba(0, 0, 0, 0.3));\n",
              "      fill: #FFFFFF;\n",
              "    }\n",
              "  </style>\n",
              "\n",
              "      <script>\n",
              "        const buttonEl =\n",
              "          document.querySelector('#df-c6e3a4ec-59dd-47a9-8645-36feda10c08c button.colab-df-convert');\n",
              "        buttonEl.style.display =\n",
              "          google.colab.kernel.accessAllowed ? 'block' : 'none';\n",
              "\n",
              "        async function convertToInteractive(key) {\n",
              "          const element = document.querySelector('#df-c6e3a4ec-59dd-47a9-8645-36feda10c08c');\n",
              "          const dataTable =\n",
              "            await google.colab.kernel.invokeFunction('convertToInteractive',\n",
              "                                                     [key], {});\n",
              "          if (!dataTable) return;\n",
              "\n",
              "          const docLinkHtml = 'Like what you see? Visit the ' +\n",
              "            '<a target=\"_blank\" href=https://colab.research.google.com/notebooks/data_table.ipynb>data table notebook</a>'\n",
              "            + ' to learn more about interactive tables.';\n",
              "          element.innerHTML = '';\n",
              "          dataTable['output_type'] = 'display_data';\n",
              "          await google.colab.output.renderOutput(dataTable, element);\n",
              "          const docLink = document.createElement('div');\n",
              "          docLink.innerHTML = docLinkHtml;\n",
              "          element.appendChild(docLink);\n",
              "        }\n",
              "      </script>\n",
              "    </div>\n",
              "  </div>\n",
              "  "
            ],
            "text/plain": [
              "    age gender  height_cm  ...  sit-ups counts  broad jump_cm  class\n",
              "0  27.0      M      172.3  ...            60.0          217.0      C\n",
              "1  25.0      M      165.0  ...            53.0          229.0      A\n",
              "2  31.0      M      179.6  ...            49.0          181.0      C\n",
              "3  32.0      M      174.5  ...            53.0          219.0      B\n",
              "4  28.0      M      173.8  ...            45.0          217.0      B\n",
              "5  36.0      F      165.4  ...            27.0          153.0      B\n",
              "6  42.0      F      164.5  ...            18.0          146.0      D\n",
              "7  33.0      M      174.9  ...            42.0          234.0      B\n",
              "8  54.0      M      166.8  ...            34.0          148.0      C\n",
              "9  28.0      M      185.0  ...            55.0          213.0      B\n",
              "\n",
              "[10 rows x 12 columns]"
            ]
          },
          "metadata": {},
          "execution_count": 6
        }
      ]
    },
    {
      "cell_type": "markdown",
      "source": [
        "# **DATA**\n",
        "\n",
        "---\n",
        "\n",
        "\n",
        "Context\n",
        "This is **data that confirmed the grade of body performance** with **age and some exercise performance** data.\n",
        "\n",
        "Content\n",
        "data shape : (13393, 12)\n",
        "\n",
        "1) age : 20 ~64 yrs\n",
        "\n",
        "2) gender : Female ,Male\n",
        "\n",
        "3) height_cm : \n",
        "\n",
        "4) weight_kg :\n",
        "\n",
        "5) body fat_% :\n",
        "\n",
        "6) diastolic : diastolic blood pressure (min)\n",
        "\n",
        "7) systolic : systolic blood pressure (min)\n",
        "\n",
        "8) gripForce :     \n",
        "\n",
        "9) sit and bend forward_cm :    \n",
        "\n",
        "10) sit-ups counts :     \n",
        "\n",
        "11) broad jump_cm :    \n",
        "\n",
        "12) class : A,B,C,D (A: best) / stratified"
      ],
      "metadata": {
        "id": "VkpIWYidbeRd"
      }
    },
    {
      "cell_type": "code",
      "source": [
        "df.info()"
      ],
      "metadata": {
        "colab": {
          "base_uri": "https://localhost:8080/"
        },
        "id": "B9IEr2t7-2aV",
        "outputId": "cc7b1193-1a5a-46ec-a71b-855cbca389ef"
      },
      "execution_count": null,
      "outputs": [
        {
          "output_type": "stream",
          "name": "stdout",
          "text": [
            "<class 'pandas.core.frame.DataFrame'>\n",
            "RangeIndex: 13393 entries, 0 to 13392\n",
            "Data columns (total 12 columns):\n",
            " #   Column                   Non-Null Count  Dtype  \n",
            "---  ------                   --------------  -----  \n",
            " 0   age                      13393 non-null  float64\n",
            " 1   gender                   13393 non-null  object \n",
            " 2   height_cm                13393 non-null  float64\n",
            " 3   weight_kg                13393 non-null  float64\n",
            " 4   body fat_%               13393 non-null  float64\n",
            " 5   diastolic                13393 non-null  float64\n",
            " 6   systolic                 13393 non-null  float64\n",
            " 7   gripForce                13393 non-null  float64\n",
            " 8   sit and bend forward_cm  13393 non-null  float64\n",
            " 9   sit-ups counts           13393 non-null  float64\n",
            " 10  broad jump_cm            13393 non-null  float64\n",
            " 11  class                    13393 non-null  object \n",
            "dtypes: float64(10), object(2)\n",
            "memory usage: 1.2+ MB\n"
          ]
        }
      ]
    },
    {
      "cell_type": "markdown",
      "source": [
        "# There are **two columns** containing datatype object we need int or float for performing factor analysis\n",
        "# 1) As male and female will have different body performnace we will need those variables since they are correlated with other variables\n",
        "# 2) but class variable will not have significant relation with other variables we will drop this column"
      ],
      "metadata": {
        "id": "9F0lPi2chh_9"
      }
    },
    {
      "cell_type": "code",
      "source": [
        "df.drop([\"class\"],axis=1,inplace=True)\n",
        "df[\"gender\"].replace({\"M\": 0, \"F\": 1}, inplace=True)"
      ],
      "metadata": {
        "id": "GJiliCULGpvA"
      },
      "execution_count": null,
      "outputs": []
    },
    {
      "cell_type": "code",
      "source": [
        "df.head(10)"
      ],
      "metadata": {
        "colab": {
          "base_uri": "https://localhost:8080/",
          "height": 363
        },
        "id": "DI8DXXdrGzkt",
        "outputId": "e82e95f0-1936-4c44-b682-a4f143f490db"
      },
      "execution_count": null,
      "outputs": [
        {
          "output_type": "execute_result",
          "data": {
            "text/html": [
              "\n",
              "  <div id=\"df-a83fcc71-b678-41a3-8edd-0dd0acb2ebc6\">\n",
              "    <div class=\"colab-df-container\">\n",
              "      <div>\n",
              "<style scoped>\n",
              "    .dataframe tbody tr th:only-of-type {\n",
              "        vertical-align: middle;\n",
              "    }\n",
              "\n",
              "    .dataframe tbody tr th {\n",
              "        vertical-align: top;\n",
              "    }\n",
              "\n",
              "    .dataframe thead th {\n",
              "        text-align: right;\n",
              "    }\n",
              "</style>\n",
              "<table border=\"1\" class=\"dataframe\">\n",
              "  <thead>\n",
              "    <tr style=\"text-align: right;\">\n",
              "      <th></th>\n",
              "      <th>age</th>\n",
              "      <th>gender</th>\n",
              "      <th>height_cm</th>\n",
              "      <th>weight_kg</th>\n",
              "      <th>body fat_%</th>\n",
              "      <th>diastolic</th>\n",
              "      <th>systolic</th>\n",
              "      <th>gripForce</th>\n",
              "      <th>sit and bend forward_cm</th>\n",
              "      <th>sit-ups counts</th>\n",
              "      <th>broad jump_cm</th>\n",
              "    </tr>\n",
              "  </thead>\n",
              "  <tbody>\n",
              "    <tr>\n",
              "      <th>0</th>\n",
              "      <td>27.0</td>\n",
              "      <td>0</td>\n",
              "      <td>172.3</td>\n",
              "      <td>75.24</td>\n",
              "      <td>21.3</td>\n",
              "      <td>80.0</td>\n",
              "      <td>130.0</td>\n",
              "      <td>54.9</td>\n",
              "      <td>18.4</td>\n",
              "      <td>60.0</td>\n",
              "      <td>217.0</td>\n",
              "    </tr>\n",
              "    <tr>\n",
              "      <th>1</th>\n",
              "      <td>25.0</td>\n",
              "      <td>0</td>\n",
              "      <td>165.0</td>\n",
              "      <td>55.80</td>\n",
              "      <td>15.7</td>\n",
              "      <td>77.0</td>\n",
              "      <td>126.0</td>\n",
              "      <td>36.4</td>\n",
              "      <td>16.3</td>\n",
              "      <td>53.0</td>\n",
              "      <td>229.0</td>\n",
              "    </tr>\n",
              "    <tr>\n",
              "      <th>2</th>\n",
              "      <td>31.0</td>\n",
              "      <td>0</td>\n",
              "      <td>179.6</td>\n",
              "      <td>78.00</td>\n",
              "      <td>20.1</td>\n",
              "      <td>92.0</td>\n",
              "      <td>152.0</td>\n",
              "      <td>44.8</td>\n",
              "      <td>12.0</td>\n",
              "      <td>49.0</td>\n",
              "      <td>181.0</td>\n",
              "    </tr>\n",
              "    <tr>\n",
              "      <th>3</th>\n",
              "      <td>32.0</td>\n",
              "      <td>0</td>\n",
              "      <td>174.5</td>\n",
              "      <td>71.10</td>\n",
              "      <td>18.4</td>\n",
              "      <td>76.0</td>\n",
              "      <td>147.0</td>\n",
              "      <td>41.4</td>\n",
              "      <td>15.2</td>\n",
              "      <td>53.0</td>\n",
              "      <td>219.0</td>\n",
              "    </tr>\n",
              "    <tr>\n",
              "      <th>4</th>\n",
              "      <td>28.0</td>\n",
              "      <td>0</td>\n",
              "      <td>173.8</td>\n",
              "      <td>67.70</td>\n",
              "      <td>17.1</td>\n",
              "      <td>70.0</td>\n",
              "      <td>127.0</td>\n",
              "      <td>43.5</td>\n",
              "      <td>27.1</td>\n",
              "      <td>45.0</td>\n",
              "      <td>217.0</td>\n",
              "    </tr>\n",
              "    <tr>\n",
              "      <th>5</th>\n",
              "      <td>36.0</td>\n",
              "      <td>1</td>\n",
              "      <td>165.4</td>\n",
              "      <td>55.40</td>\n",
              "      <td>22.0</td>\n",
              "      <td>64.0</td>\n",
              "      <td>119.0</td>\n",
              "      <td>23.8</td>\n",
              "      <td>21.0</td>\n",
              "      <td>27.0</td>\n",
              "      <td>153.0</td>\n",
              "    </tr>\n",
              "    <tr>\n",
              "      <th>6</th>\n",
              "      <td>42.0</td>\n",
              "      <td>1</td>\n",
              "      <td>164.5</td>\n",
              "      <td>63.70</td>\n",
              "      <td>32.2</td>\n",
              "      <td>72.0</td>\n",
              "      <td>135.0</td>\n",
              "      <td>22.7</td>\n",
              "      <td>0.8</td>\n",
              "      <td>18.0</td>\n",
              "      <td>146.0</td>\n",
              "    </tr>\n",
              "    <tr>\n",
              "      <th>7</th>\n",
              "      <td>33.0</td>\n",
              "      <td>0</td>\n",
              "      <td>174.9</td>\n",
              "      <td>77.20</td>\n",
              "      <td>36.9</td>\n",
              "      <td>84.0</td>\n",
              "      <td>137.0</td>\n",
              "      <td>45.9</td>\n",
              "      <td>12.3</td>\n",
              "      <td>42.0</td>\n",
              "      <td>234.0</td>\n",
              "    </tr>\n",
              "    <tr>\n",
              "      <th>8</th>\n",
              "      <td>54.0</td>\n",
              "      <td>0</td>\n",
              "      <td>166.8</td>\n",
              "      <td>67.50</td>\n",
              "      <td>27.6</td>\n",
              "      <td>85.0</td>\n",
              "      <td>165.0</td>\n",
              "      <td>40.4</td>\n",
              "      <td>18.6</td>\n",
              "      <td>34.0</td>\n",
              "      <td>148.0</td>\n",
              "    </tr>\n",
              "    <tr>\n",
              "      <th>9</th>\n",
              "      <td>28.0</td>\n",
              "      <td>0</td>\n",
              "      <td>185.0</td>\n",
              "      <td>84.60</td>\n",
              "      <td>14.4</td>\n",
              "      <td>81.0</td>\n",
              "      <td>156.0</td>\n",
              "      <td>57.9</td>\n",
              "      <td>12.1</td>\n",
              "      <td>55.0</td>\n",
              "      <td>213.0</td>\n",
              "    </tr>\n",
              "  </tbody>\n",
              "</table>\n",
              "</div>\n",
              "      <button class=\"colab-df-convert\" onclick=\"convertToInteractive('df-a83fcc71-b678-41a3-8edd-0dd0acb2ebc6')\"\n",
              "              title=\"Convert this dataframe to an interactive table.\"\n",
              "              style=\"display:none;\">\n",
              "        \n",
              "  <svg xmlns=\"http://www.w3.org/2000/svg\" height=\"24px\"viewBox=\"0 0 24 24\"\n",
              "       width=\"24px\">\n",
              "    <path d=\"M0 0h24v24H0V0z\" fill=\"none\"/>\n",
              "    <path d=\"M18.56 5.44l.94 2.06.94-2.06 2.06-.94-2.06-.94-.94-2.06-.94 2.06-2.06.94zm-11 1L8.5 8.5l.94-2.06 2.06-.94-2.06-.94L8.5 2.5l-.94 2.06-2.06.94zm10 10l.94 2.06.94-2.06 2.06-.94-2.06-.94-.94-2.06-.94 2.06-2.06.94z\"/><path d=\"M17.41 7.96l-1.37-1.37c-.4-.4-.92-.59-1.43-.59-.52 0-1.04.2-1.43.59L10.3 9.45l-7.72 7.72c-.78.78-.78 2.05 0 2.83L4 21.41c.39.39.9.59 1.41.59.51 0 1.02-.2 1.41-.59l7.78-7.78 2.81-2.81c.8-.78.8-2.07 0-2.86zM5.41 20L4 18.59l7.72-7.72 1.47 1.35L5.41 20z\"/>\n",
              "  </svg>\n",
              "      </button>\n",
              "      \n",
              "  <style>\n",
              "    .colab-df-container {\n",
              "      display:flex;\n",
              "      flex-wrap:wrap;\n",
              "      gap: 12px;\n",
              "    }\n",
              "\n",
              "    .colab-df-convert {\n",
              "      background-color: #E8F0FE;\n",
              "      border: none;\n",
              "      border-radius: 50%;\n",
              "      cursor: pointer;\n",
              "      display: none;\n",
              "      fill: #1967D2;\n",
              "      height: 32px;\n",
              "      padding: 0 0 0 0;\n",
              "      width: 32px;\n",
              "    }\n",
              "\n",
              "    .colab-df-convert:hover {\n",
              "      background-color: #E2EBFA;\n",
              "      box-shadow: 0px 1px 2px rgba(60, 64, 67, 0.3), 0px 1px 3px 1px rgba(60, 64, 67, 0.15);\n",
              "      fill: #174EA6;\n",
              "    }\n",
              "\n",
              "    [theme=dark] .colab-df-convert {\n",
              "      background-color: #3B4455;\n",
              "      fill: #D2E3FC;\n",
              "    }\n",
              "\n",
              "    [theme=dark] .colab-df-convert:hover {\n",
              "      background-color: #434B5C;\n",
              "      box-shadow: 0px 1px 3px 1px rgba(0, 0, 0, 0.15);\n",
              "      filter: drop-shadow(0px 1px 2px rgba(0, 0, 0, 0.3));\n",
              "      fill: #FFFFFF;\n",
              "    }\n",
              "  </style>\n",
              "\n",
              "      <script>\n",
              "        const buttonEl =\n",
              "          document.querySelector('#df-a83fcc71-b678-41a3-8edd-0dd0acb2ebc6 button.colab-df-convert');\n",
              "        buttonEl.style.display =\n",
              "          google.colab.kernel.accessAllowed ? 'block' : 'none';\n",
              "\n",
              "        async function convertToInteractive(key) {\n",
              "          const element = document.querySelector('#df-a83fcc71-b678-41a3-8edd-0dd0acb2ebc6');\n",
              "          const dataTable =\n",
              "            await google.colab.kernel.invokeFunction('convertToInteractive',\n",
              "                                                     [key], {});\n",
              "          if (!dataTable) return;\n",
              "\n",
              "          const docLinkHtml = 'Like what you see? Visit the ' +\n",
              "            '<a target=\"_blank\" href=https://colab.research.google.com/notebooks/data_table.ipynb>data table notebook</a>'\n",
              "            + ' to learn more about interactive tables.';\n",
              "          element.innerHTML = '';\n",
              "          dataTable['output_type'] = 'display_data';\n",
              "          await google.colab.output.renderOutput(dataTable, element);\n",
              "          const docLink = document.createElement('div');\n",
              "          docLink.innerHTML = docLinkHtml;\n",
              "          element.appendChild(docLink);\n",
              "        }\n",
              "      </script>\n",
              "    </div>\n",
              "  </div>\n",
              "  "
            ],
            "text/plain": [
              "    age  gender  ...  sit-ups counts  broad jump_cm\n",
              "0  27.0       0  ...            60.0          217.0\n",
              "1  25.0       0  ...            53.0          229.0\n",
              "2  31.0       0  ...            49.0          181.0\n",
              "3  32.0       0  ...            53.0          219.0\n",
              "4  28.0       0  ...            45.0          217.0\n",
              "5  36.0       1  ...            27.0          153.0\n",
              "6  42.0       1  ...            18.0          146.0\n",
              "7  33.0       0  ...            42.0          234.0\n",
              "8  54.0       0  ...            34.0          148.0\n",
              "9  28.0       0  ...            55.0          213.0\n",
              "\n",
              "[10 rows x 11 columns]"
            ]
          },
          "metadata": {},
          "execution_count": 9
        }
      ]
    },
    {
      "cell_type": "code",
      "source": [
        "df.describe()"
      ],
      "metadata": {
        "colab": {
          "base_uri": "https://localhost:8080/",
          "height": 398
        },
        "id": "8gUxaAbjVZ35",
        "outputId": "899816f9-5a9b-42cb-fd3c-191cbf5d3745"
      },
      "execution_count": null,
      "outputs": [
        {
          "output_type": "execute_result",
          "data": {
            "text/html": [
              "\n",
              "  <div id=\"df-4816d443-b4bf-4d37-8abb-2ecdb8daf290\">\n",
              "    <div class=\"colab-df-container\">\n",
              "      <div>\n",
              "<style scoped>\n",
              "    .dataframe tbody tr th:only-of-type {\n",
              "        vertical-align: middle;\n",
              "    }\n",
              "\n",
              "    .dataframe tbody tr th {\n",
              "        vertical-align: top;\n",
              "    }\n",
              "\n",
              "    .dataframe thead th {\n",
              "        text-align: right;\n",
              "    }\n",
              "</style>\n",
              "<table border=\"1\" class=\"dataframe\">\n",
              "  <thead>\n",
              "    <tr style=\"text-align: right;\">\n",
              "      <th></th>\n",
              "      <th>age</th>\n",
              "      <th>gender</th>\n",
              "      <th>height_cm</th>\n",
              "      <th>weight_kg</th>\n",
              "      <th>body fat_%</th>\n",
              "      <th>diastolic</th>\n",
              "      <th>systolic</th>\n",
              "      <th>gripForce</th>\n",
              "      <th>sit and bend forward_cm</th>\n",
              "      <th>sit-ups counts</th>\n",
              "      <th>broad jump_cm</th>\n",
              "    </tr>\n",
              "  </thead>\n",
              "  <tbody>\n",
              "    <tr>\n",
              "      <th>count</th>\n",
              "      <td>13393.000000</td>\n",
              "      <td>13393.000000</td>\n",
              "      <td>13393.000000</td>\n",
              "      <td>13393.000000</td>\n",
              "      <td>13393.000000</td>\n",
              "      <td>13393.000000</td>\n",
              "      <td>13393.000000</td>\n",
              "      <td>13393.000000</td>\n",
              "      <td>13393.000000</td>\n",
              "      <td>13393.000000</td>\n",
              "      <td>13393.000000</td>\n",
              "    </tr>\n",
              "    <tr>\n",
              "      <th>mean</th>\n",
              "      <td>36.775106</td>\n",
              "      <td>0.367804</td>\n",
              "      <td>168.559807</td>\n",
              "      <td>67.447316</td>\n",
              "      <td>23.240165</td>\n",
              "      <td>78.796842</td>\n",
              "      <td>130.234817</td>\n",
              "      <td>36.963877</td>\n",
              "      <td>15.209268</td>\n",
              "      <td>39.771224</td>\n",
              "      <td>190.129627</td>\n",
              "    </tr>\n",
              "    <tr>\n",
              "      <th>std</th>\n",
              "      <td>13.625639</td>\n",
              "      <td>0.482226</td>\n",
              "      <td>8.426583</td>\n",
              "      <td>11.949666</td>\n",
              "      <td>7.256844</td>\n",
              "      <td>10.742033</td>\n",
              "      <td>14.713954</td>\n",
              "      <td>10.624864</td>\n",
              "      <td>8.456677</td>\n",
              "      <td>14.276698</td>\n",
              "      <td>39.868000</td>\n",
              "    </tr>\n",
              "    <tr>\n",
              "      <th>min</th>\n",
              "      <td>21.000000</td>\n",
              "      <td>0.000000</td>\n",
              "      <td>125.000000</td>\n",
              "      <td>26.300000</td>\n",
              "      <td>3.000000</td>\n",
              "      <td>0.000000</td>\n",
              "      <td>0.000000</td>\n",
              "      <td>0.000000</td>\n",
              "      <td>-25.000000</td>\n",
              "      <td>0.000000</td>\n",
              "      <td>0.000000</td>\n",
              "    </tr>\n",
              "    <tr>\n",
              "      <th>25%</th>\n",
              "      <td>25.000000</td>\n",
              "      <td>0.000000</td>\n",
              "      <td>162.400000</td>\n",
              "      <td>58.200000</td>\n",
              "      <td>18.000000</td>\n",
              "      <td>71.000000</td>\n",
              "      <td>120.000000</td>\n",
              "      <td>27.500000</td>\n",
              "      <td>10.900000</td>\n",
              "      <td>30.000000</td>\n",
              "      <td>162.000000</td>\n",
              "    </tr>\n",
              "    <tr>\n",
              "      <th>50%</th>\n",
              "      <td>32.000000</td>\n",
              "      <td>0.000000</td>\n",
              "      <td>169.200000</td>\n",
              "      <td>67.400000</td>\n",
              "      <td>22.800000</td>\n",
              "      <td>79.000000</td>\n",
              "      <td>130.000000</td>\n",
              "      <td>37.900000</td>\n",
              "      <td>16.200000</td>\n",
              "      <td>41.000000</td>\n",
              "      <td>193.000000</td>\n",
              "    </tr>\n",
              "    <tr>\n",
              "      <th>75%</th>\n",
              "      <td>48.000000</td>\n",
              "      <td>1.000000</td>\n",
              "      <td>174.800000</td>\n",
              "      <td>75.300000</td>\n",
              "      <td>28.000000</td>\n",
              "      <td>86.000000</td>\n",
              "      <td>141.000000</td>\n",
              "      <td>45.200000</td>\n",
              "      <td>20.700000</td>\n",
              "      <td>50.000000</td>\n",
              "      <td>221.000000</td>\n",
              "    </tr>\n",
              "    <tr>\n",
              "      <th>max</th>\n",
              "      <td>64.000000</td>\n",
              "      <td>1.000000</td>\n",
              "      <td>193.800000</td>\n",
              "      <td>138.100000</td>\n",
              "      <td>78.400000</td>\n",
              "      <td>156.200000</td>\n",
              "      <td>201.000000</td>\n",
              "      <td>70.500000</td>\n",
              "      <td>213.000000</td>\n",
              "      <td>80.000000</td>\n",
              "      <td>303.000000</td>\n",
              "    </tr>\n",
              "  </tbody>\n",
              "</table>\n",
              "</div>\n",
              "      <button class=\"colab-df-convert\" onclick=\"convertToInteractive('df-4816d443-b4bf-4d37-8abb-2ecdb8daf290')\"\n",
              "              title=\"Convert this dataframe to an interactive table.\"\n",
              "              style=\"display:none;\">\n",
              "        \n",
              "  <svg xmlns=\"http://www.w3.org/2000/svg\" height=\"24px\"viewBox=\"0 0 24 24\"\n",
              "       width=\"24px\">\n",
              "    <path d=\"M0 0h24v24H0V0z\" fill=\"none\"/>\n",
              "    <path d=\"M18.56 5.44l.94 2.06.94-2.06 2.06-.94-2.06-.94-.94-2.06-.94 2.06-2.06.94zm-11 1L8.5 8.5l.94-2.06 2.06-.94-2.06-.94L8.5 2.5l-.94 2.06-2.06.94zm10 10l.94 2.06.94-2.06 2.06-.94-2.06-.94-.94-2.06-.94 2.06-2.06.94z\"/><path d=\"M17.41 7.96l-1.37-1.37c-.4-.4-.92-.59-1.43-.59-.52 0-1.04.2-1.43.59L10.3 9.45l-7.72 7.72c-.78.78-.78 2.05 0 2.83L4 21.41c.39.39.9.59 1.41.59.51 0 1.02-.2 1.41-.59l7.78-7.78 2.81-2.81c.8-.78.8-2.07 0-2.86zM5.41 20L4 18.59l7.72-7.72 1.47 1.35L5.41 20z\"/>\n",
              "  </svg>\n",
              "      </button>\n",
              "      \n",
              "  <style>\n",
              "    .colab-df-container {\n",
              "      display:flex;\n",
              "      flex-wrap:wrap;\n",
              "      gap: 12px;\n",
              "    }\n",
              "\n",
              "    .colab-df-convert {\n",
              "      background-color: #E8F0FE;\n",
              "      border: none;\n",
              "      border-radius: 50%;\n",
              "      cursor: pointer;\n",
              "      display: none;\n",
              "      fill: #1967D2;\n",
              "      height: 32px;\n",
              "      padding: 0 0 0 0;\n",
              "      width: 32px;\n",
              "    }\n",
              "\n",
              "    .colab-df-convert:hover {\n",
              "      background-color: #E2EBFA;\n",
              "      box-shadow: 0px 1px 2px rgba(60, 64, 67, 0.3), 0px 1px 3px 1px rgba(60, 64, 67, 0.15);\n",
              "      fill: #174EA6;\n",
              "    }\n",
              "\n",
              "    [theme=dark] .colab-df-convert {\n",
              "      background-color: #3B4455;\n",
              "      fill: #D2E3FC;\n",
              "    }\n",
              "\n",
              "    [theme=dark] .colab-df-convert:hover {\n",
              "      background-color: #434B5C;\n",
              "      box-shadow: 0px 1px 3px 1px rgba(0, 0, 0, 0.15);\n",
              "      filter: drop-shadow(0px 1px 2px rgba(0, 0, 0, 0.3));\n",
              "      fill: #FFFFFF;\n",
              "    }\n",
              "  </style>\n",
              "\n",
              "      <script>\n",
              "        const buttonEl =\n",
              "          document.querySelector('#df-4816d443-b4bf-4d37-8abb-2ecdb8daf290 button.colab-df-convert');\n",
              "        buttonEl.style.display =\n",
              "          google.colab.kernel.accessAllowed ? 'block' : 'none';\n",
              "\n",
              "        async function convertToInteractive(key) {\n",
              "          const element = document.querySelector('#df-4816d443-b4bf-4d37-8abb-2ecdb8daf290');\n",
              "          const dataTable =\n",
              "            await google.colab.kernel.invokeFunction('convertToInteractive',\n",
              "                                                     [key], {});\n",
              "          if (!dataTable) return;\n",
              "\n",
              "          const docLinkHtml = 'Like what you see? Visit the ' +\n",
              "            '<a target=\"_blank\" href=https://colab.research.google.com/notebooks/data_table.ipynb>data table notebook</a>'\n",
              "            + ' to learn more about interactive tables.';\n",
              "          element.innerHTML = '';\n",
              "          dataTable['output_type'] = 'display_data';\n",
              "          await google.colab.output.renderOutput(dataTable, element);\n",
              "          const docLink = document.createElement('div');\n",
              "          docLink.innerHTML = docLinkHtml;\n",
              "          element.appendChild(docLink);\n",
              "        }\n",
              "      </script>\n",
              "    </div>\n",
              "  </div>\n",
              "  "
            ],
            "text/plain": [
              "                age        gender  ...  sit-ups counts  broad jump_cm\n",
              "count  13393.000000  13393.000000  ...    13393.000000   13393.000000\n",
              "mean      36.775106      0.367804  ...       39.771224     190.129627\n",
              "std       13.625639      0.482226  ...       14.276698      39.868000\n",
              "min       21.000000      0.000000  ...        0.000000       0.000000\n",
              "25%       25.000000      0.000000  ...       30.000000     162.000000\n",
              "50%       32.000000      0.000000  ...       41.000000     193.000000\n",
              "75%       48.000000      1.000000  ...       50.000000     221.000000\n",
              "max       64.000000      1.000000  ...       80.000000     303.000000\n",
              "\n",
              "[8 rows x 11 columns]"
            ]
          },
          "metadata": {},
          "execution_count": 10
        }
      ]
    },
    {
      "cell_type": "code",
      "source": [
        "df.var()"
      ],
      "metadata": {
        "colab": {
          "base_uri": "https://localhost:8080/"
        },
        "id": "BFIIHKFIAIgB",
        "outputId": "d31515b0-8d83-4465-d469-4109f70790c8"
      },
      "execution_count": null,
      "outputs": [
        {
          "output_type": "execute_result",
          "data": {
            "text/plain": [
              "age                         185.658051\n",
              "gender                        0.232542\n",
              "height_cm                    71.007293\n",
              "weight_kg                   142.794526\n",
              "body fat_%                   52.661786\n",
              "diastolic                   115.391275\n",
              "systolic                    216.500428\n",
              "gripForce                   112.887736\n",
              "sit and bend forward_cm      71.515386\n",
              "sit-ups counts              203.824115\n",
              "broad jump_cm              1589.457435\n",
              "dtype: float64"
            ]
          },
          "metadata": {},
          "execution_count": 11
        }
      ]
    },
    {
      "cell_type": "code",
      "source": [
        "df.shape"
      ],
      "metadata": {
        "colab": {
          "base_uri": "https://localhost:8080/"
        },
        "id": "QtS93u0M_uRn",
        "outputId": "7efb8776-ae18-4eb2-a545-1c093499d9bb"
      },
      "execution_count": null,
      "outputs": [
        {
          "output_type": "execute_result",
          "data": {
            "text/plain": [
              "(13393, 11)"
            ]
          },
          "metadata": {},
          "execution_count": 12
        }
      ]
    },
    {
      "cell_type": "code",
      "source": [
        "df.columns"
      ],
      "metadata": {
        "colab": {
          "base_uri": "https://localhost:8080/"
        },
        "id": "y7pwYtLGAhmP",
        "outputId": "cc5d7cff-49be-427a-848d-009ef9f5ca95"
      },
      "execution_count": null,
      "outputs": [
        {
          "output_type": "execute_result",
          "data": {
            "text/plain": [
              "Index(['age', 'gender', 'height_cm', 'weight_kg', 'body fat_%', 'diastolic',\n",
              "       'systolic', 'gripForce', 'sit and bend forward_cm', 'sit-ups counts',\n",
              "       'broad jump_cm'],\n",
              "      dtype='object')"
            ]
          },
          "metadata": {},
          "execution_count": 13
        }
      ]
    },
    {
      "cell_type": "markdown",
      "source": [
        "# **GRAPHICAL VISUALIZATION ▶**\n",
        "\n",
        "\n"
      ],
      "metadata": {
        "id": "HjQhZ2eojkA4"
      }
    },
    {
      "cell_type": "code",
      "source": [
        "df[df.columns].hist(color=\"c\",figsize=(20,15))\n",
        "plt.show()"
      ],
      "metadata": {
        "colab": {
          "base_uri": "https://localhost:8080/",
          "height": 878
        },
        "id": "Jwkh5JDN6kjS",
        "outputId": "ceffa917-fd3f-4229-a459-4320611bee6f"
      },
      "execution_count": null,
      "outputs": [
        {
          "output_type": "display_data",
          "data": {
            "image/png": "[encoded data removed]",
            "text/plain": [
              "<Figure size 1440x1080 with 12 Axes>"
            ]
          },
          "metadata": {
            "needs_background": "light"
          }
        }
      ]
    },
    {
      "cell_type": "markdown",
      "source": [
        "# The histogram plot shows us _\n",
        "1) Age group of pleople in dataset : **20 to 60** years\n",
        "\n",
        "2) There are around **65% males and 35% female** in data\n",
        "\n",
        "3) Height is in range **125 to 195** cm\n",
        "\n",
        "4) Weight is in range **25 to 140** kg\n",
        "\n",
        "5) Body fat percentage is **3% to 78.4 %**\n",
        "\n",
        "6) Distolic blood pressure is within range **0 mmHg to 157 mmHg**\n",
        "\n",
        "7) sistolic blood pressure is within range **0 mmHg to 202 mmHg**\n",
        "\n",
        "8) Grip strenth is in range** 0 to 215**\n",
        "\n",
        "9) sit and bend forward tests reasultsare in range **-25 cm to 215 cm**\n",
        "\n",
        "10) sit-ups count are in range **0 to 80**\n",
        "\n",
        "11) Broad jump range :** 0 to 305 cm**"
      ],
      "metadata": {
        "id": "F7LwNAeip2cf"
      }
    },
    {
      "cell_type": "code",
      "source": [
        "df[df.columns].boxplot(color=\"r\",figsize=(20,15))\n",
        "plt.show()"
      ],
      "metadata": {
        "colab": {
          "base_uri": "https://localhost:8080/",
          "height": 864
        },
        "id": "mfrM2ls_u3w4",
        "outputId": "4b43e35b-3282-42c8-a4f8-b07dc49df157"
      },
      "execution_count": null,
      "outputs": [
        {
          "output_type": "display_data",
          "data": {
            "image/png": "[encoded data removed]",
            "text/plain": [
              "<Figure size 1440x1080 with 1 Axes>"
            ]
          },
          "metadata": {
            "needs_background": "light"
          }
        }
      ]
    },
    {
      "cell_type": "markdown",
      "source": [
        "#A correlation plot of all the variables is the first step in any factor analysis to evaluate ***whether some variables are useless or too correlated with others.***"
      ],
      "metadata": {
        "id": "TKUPz8ISa4Uh"
      }
    },
    {
      "cell_type": "code",
      "source": [
        "import seaborn as sns\n",
        "plt.figure(figsize=(15,10))\n",
        "c = df.corr()\n",
        "sns.heatmap(c,cmap = 'bone_r')"
      ],
      "metadata": {
        "colab": {
          "base_uri": "https://localhost:8080/",
          "height": 727
        },
        "id": "Ft4mqXp4UQfj",
        "outputId": "dfb4621c-ae28-49c5-a349-31b9dc91a074"
      },
      "execution_count": null,
      "outputs": [
        {
          "output_type": "execute_result",
          "data": {
            "text/plain": [
              "<matplotlib.axes._subplots.AxesSubplot at 0x7fbf1ef747d0>"
            ]
          },
          "metadata": {},
          "execution_count": 15
        },
        {
          "output_type": "display_data",
          "data": {
            "image/png": "[encoded data removed]",
            "text/plain": [
              "<Figure size 1080x720 with 2 Axes>"
            ]
          },
          "metadata": {
            "needs_background": "light"
          }
        }
      ]
    },
    {
      "cell_type": "markdown",
      "source": [
        "# **Adequacy Test** ▶\n",
        "Before you perform factor analysis, we need to evaluate the “factorability” of our dataset. \n",
        "Factorability means \"**can we found the factors in the dataset?**\". \n",
        "There are two methods to check the factorability or sampling adequacy :\n",
        "\n",
        "1)***Bartlett’s Test***\n",
        "\n",
        "2)***Kaiser-Meyer-Olkin Test***\n",
        "\n"
      ],
      "metadata": {
        "id": "KmV9mK_wbE37"
      }
    },
    {
      "cell_type": "markdown",
      "source": [
        "# **1) Bartlett’s test** ▶\n",
        "Bartlett’s test  **checks** whether or not the **observed variables intercorrelate.**\n",
        "\n",
        "If the test found statistically insignificant, you **should not use** factor analysis. "
      ],
      "metadata": {
        "id": "I4gtowmabmuU"
      }
    },
    {
      "cell_type": "code",
      "source": [
        "#bartlett test\n",
        "from factor_analyzer.factor_analyzer import calculate_bartlett_sphericity\n",
        "chi_square_value,p_value=calculate_bartlett_sphericity(df)\n",
        "chi_square_value, p_value"
      ],
      "metadata": {
        "colab": {
          "base_uri": "https://localhost:8080/"
        },
        "id": "a-7kH0kpIgtr",
        "outputId": "993699d0-b92c-42eb-f123-5e87099303ec"
      },
      "execution_count": null,
      "outputs": [
        {
          "output_type": "execute_result",
          "data": {
            "text/plain": [
              "(105723.6914707095, 0.0)"
            ]
          },
          "metadata": {},
          "execution_count": 16
        }
      ]
    },
    {
      "cell_type": "markdown",
      "source": [
        "# In this Bartlett’s test, the **p-value is 0**. The test was statistically significant, \n",
        "indicating that the observed **correlation matrix is not an identity matrix.**"
      ],
      "metadata": {
        "id": "NQoVjhylbba4"
      }
    },
    {
      "cell_type": "markdown",
      "source": [
        "# **2)Kaiser-Meyer-Olkin (KMO) Test** ▶\n",
        "Measures the suitability of data for factor analysis. \n",
        "It determines the adequacy for each observed variable and for the complete model.\n",
        "KMO **estimates the proportion of variance among all the observed variable.**\n",
        "KMO values range between 0 and 1. \n",
        "In general, KMO values **less than 0.6** indicate the sampling is not adequate and that remedial action should be taken"
      ],
      "metadata": {
        "id": "xj6pU8fRb4io"
      }
    },
    {
      "cell_type": "code",
      "source": [
        "from factor_analyzer.factor_analyzer import calculate_kmo\n",
        "kmo_all,kmo_model=calculate_kmo(df)\n",
        "kmo_model"
      ],
      "metadata": {
        "colab": {
          "base_uri": "https://localhost:8080/"
        },
        "id": "bpLVGy-iJmvM",
        "outputId": "5b62b2e2-73ec-42d4-e006-1c52e0262df7"
      },
      "execution_count": null,
      "outputs": [
        {
          "output_type": "execute_result",
          "data": {
            "text/plain": [
              "0.7800998202764843"
            ]
          },
          "metadata": {},
          "execution_count": 6
        }
      ]
    },
    {
      "cell_type": "markdown",
      "source": [
        "**The KMO value for our data is 0.78**, which shows our data is adequate. \n",
        "This value indicates that you can proceed with your planned factor analysis."
      ],
      "metadata": {
        "id": "tY34PPcRcEpY"
      }
    },
    {
      "cell_type": "markdown",
      "source": [
        "# **AS WE HAVE CHECK THE ADEQUECY OF OUR DATA LET'S PERFORM**\n",
        "# **FACTOR ANALYSIS**"
      ],
      "metadata": {
        "id": "9u5kDazMcsBq"
      }
    },
    {
      "cell_type": "code",
      "source": [
        "# Create factor variables and perform fdactor analysis\n",
        "fa=FactorAnalyzer(3,rotation=\"varimax\")\n",
        "fa.fit(df)"
      ],
      "metadata": {
        "colab": {
          "base_uri": "https://localhost:8080/"
        },
        "id": "e18iumZVFsE9",
        "outputId": "5958dd7a-f60f-4b92-d402-381548f3d871"
      },
      "execution_count": null,
      "outputs": [
        {
          "output_type": "execute_result",
          "data": {
            "text/plain": [
              "FactorAnalyzer(rotation='varimax', rotation_kwargs={})"
            ]
          },
          "metadata": {},
          "execution_count": 7
        }
      ]
    },
    {
      "cell_type": "markdown",
      "source": [
        "# **We are using VARIMAX ROTATION**\n",
        "Varimax rotation is a statistical technique used at one level of factor analysis as an attempt to clarify the relationship among factors. To maximize the variance, while decreasing the correlation on any other factor."
      ],
      "metadata": {
        "id": "1S7_dec-cLnd"
      }
    },
    {
      "cell_type": "code",
      "source": [
        "#get eigen vectors and eigen values\n",
        "ev,v=fa.get_eigenvalues()\n",
        "ev"
      ],
      "metadata": {
        "colab": {
          "base_uri": "https://localhost:8080/"
        },
        "id": "Rvn9eN1oOBMy",
        "outputId": "111e24c1-1da0-4339-c529-df943183dbba"
      },
      "execution_count": null,
      "outputs": [
        {
          "output_type": "execute_result",
          "data": {
            "text/plain": [
              "array([4.89149459, 2.10240547, 1.24195491, 0.84593156, 0.65242217,\n",
              "       0.32232472, 0.31016798, 0.21836364, 0.17795954, 0.13975215,\n",
              "       0.09722327])"
            ]
          },
          "metadata": {},
          "execution_count": 8
        }
      ]
    },
    {
      "cell_type": "markdown",
      "source": [
        "# **WHY WE ARE CHOOSING ONLY 3 FACTORS ?**\n",
        "There are 3 techniques in determining number of factors\n",
        "\n",
        "# **1) Eigenvalue > 1**\n",
        "**The number of factors to be chosen equals the number of Eigenvalues > 1**\n",
        "\n",
        "We may choose **3 Factors** since we have **3 Eigen** values larger than 1: 4.89149459, 2.10240547, and 1.24195491.\n",
        "\n",
        "# **OR**\n",
        "# **2)Total Percent Variance Explained**\n",
        "Percentage Variance Explained should not go below 60%. If the variance explained in a model is less than 60%, there is a good likelihood that more factors will appear in the model than predicted.\n",
        "If the variance explained is greater than 35%, the data is useless.\n",
        "\n",
        "**Sum of the first three values of the eigen = 4.89149459 + 2.10240547 + 1.24195491 = 8.14585497**\n",
        "\n",
        "**Total degree of variation = 11**\n",
        "\n",
        "**Variance explained as a percentage = 8.14585497/11 = 74.05 percent**\n",
        "\n",
        "As a result, our three factors will explain **74.05 percent ** of the data, resulting in >75 percent variance explained by our three factors.\n",
        "# **OR**\n",
        "# **3) Scree plot** \n",
        "The scree plot is another alternative. The eigenvalues are on the y-axis, and the number of factors is on the x-axis, in a scree plot. It has a downhill curvature at all times.\n",
        "The point where the curve's slope clearly forms **the elbow** denotes the number of factors that the analysis should yield.\n",
        "\n",
        "\n",
        "\n"
      ],
      "metadata": {
        "id": "AZKdDSbAlBjK"
      }
    },
    {
      "cell_type": "markdown",
      "source": [
        "# ***SCREE PLOT*** ▶"
      ],
      "metadata": {
        "id": "DmPRO1OgkeDf"
      }
    },
    {
      "cell_type": "code",
      "source": [
        "#ploting grphs\n",
        "xval= range(1,df.shape[1]+1)\n",
        "plt.scatter(xval,ev)\n",
        "plt.plot(xval,ev)\n",
        "plt.title(\"Scree Plot\")\n",
        "plt.xlabel(\"Factors\")\n",
        "plt.ylabel(\"EigenValues\")\n",
        "plt.grid()\n",
        "plt.show()"
      ],
      "metadata": {
        "colab": {
          "base_uri": "https://localhost:8080/",
          "height": 294
        },
        "id": "X1-nIFq8eLYo",
        "outputId": "22910764-a909-4f20-f2d9-10620d9853ad"
      },
      "execution_count": null,
      "outputs": [
        {
          "output_type": "display_data",
          "data": {
            "image/png": "[encoded data removed]",
            "text/plain": [
              "<Figure size 432x288 with 1 Axes>"
            ]
          },
          "metadata": {
            "needs_background": "light"
          }
        }
      ]
    },
    {
      "cell_type": "markdown",
      "source": [
        "# **FACTOR LOADINGS AND INTERPRETATION** ▶"
      ],
      "metadata": {
        "id": "L0TGxK_5kpj-"
      }
    },
    {
      "cell_type": "code",
      "source": [
        "#Get loadings of each variable\n",
        "load=fa.loadings_"
      ],
      "metadata": {
        "id": "wwYNpYrPhfpK"
      },
      "execution_count": null,
      "outputs": []
    },
    {
      "cell_type": "code",
      "source": [
        "pd.DataFrame.from_records(load)"
      ],
      "metadata": {
        "id": "Uy8oCln3HIyP",
        "colab": {
          "base_uri": "https://localhost:8080/",
          "height": 394
        },
        "outputId": "18d6a44e-4649-4c52-90c5-a1d2914dd91a"
      },
      "execution_count": null,
      "outputs": [
        {
          "output_type": "execute_result",
          "data": {
            "text/html": [
              "\n",
              "  <div id=\"df-b95795c4-4b4e-4356-a985-e33d0ae18afb\">\n",
              "    <div class=\"colab-df-container\">\n",
              "      <div>\n",
              "<style scoped>\n",
              "    .dataframe tbody tr th:only-of-type {\n",
              "        vertical-align: middle;\n",
              "    }\n",
              "\n",
              "    .dataframe tbody tr th {\n",
              "        vertical-align: top;\n",
              "    }\n",
              "\n",
              "    .dataframe thead th {\n",
              "        text-align: right;\n",
              "    }\n",
              "</style>\n",
              "<table border=\"1\" class=\"dataframe\">\n",
              "  <thead>\n",
              "    <tr style=\"text-align: right;\">\n",
              "      <th></th>\n",
              "      <th>0</th>\n",
              "      <th>1</th>\n",
              "      <th>2</th>\n",
              "    </tr>\n",
              "  </thead>\n",
              "  <tbody>\n",
              "    <tr>\n",
              "      <th>0</th>\n",
              "      <td>-0.500627</td>\n",
              "      <td>0.028554</td>\n",
              "      <td>0.223311</td>\n",
              "    </tr>\n",
              "    <tr>\n",
              "      <th>1</th>\n",
              "      <td>-0.487827</td>\n",
              "      <td>-0.720946</td>\n",
              "      <td>-0.235490</td>\n",
              "    </tr>\n",
              "    <tr>\n",
              "      <th>2</th>\n",
              "      <td>0.542182</td>\n",
              "      <td>0.679280</td>\n",
              "      <td>0.097852</td>\n",
              "    </tr>\n",
              "    <tr>\n",
              "      <th>3</th>\n",
              "      <td>0.227215</td>\n",
              "      <td>0.770937</td>\n",
              "      <td>0.236794</td>\n",
              "    </tr>\n",
              "    <tr>\n",
              "      <th>4</th>\n",
              "      <td>-0.703363</td>\n",
              "      <td>-0.134093</td>\n",
              "      <td>0.002601</td>\n",
              "    </tr>\n",
              "    <tr>\n",
              "      <th>5</th>\n",
              "      <td>-0.033872</td>\n",
              "      <td>0.125047</td>\n",
              "      <td>0.702589</td>\n",
              "    </tr>\n",
              "    <tr>\n",
              "      <th>6</th>\n",
              "      <td>0.007569</td>\n",
              "      <td>0.150476</td>\n",
              "      <td>0.929395</td>\n",
              "    </tr>\n",
              "    <tr>\n",
              "      <th>7</th>\n",
              "      <td>0.611950</td>\n",
              "      <td>0.602417</td>\n",
              "      <td>0.224452</td>\n",
              "    </tr>\n",
              "    <tr>\n",
              "      <th>8</th>\n",
              "      <td>0.199944</td>\n",
              "      <td>-0.480648</td>\n",
              "      <td>-0.001599</td>\n",
              "    </tr>\n",
              "    <tr>\n",
              "      <th>9</th>\n",
              "      <td>0.897624</td>\n",
              "      <td>0.039392</td>\n",
              "      <td>0.038018</td>\n",
              "    </tr>\n",
              "    <tr>\n",
              "      <th>10</th>\n",
              "      <td>0.860384</td>\n",
              "      <td>0.327582</td>\n",
              "      <td>0.106484</td>\n",
              "    </tr>\n",
              "  </tbody>\n",
              "</table>\n",
              "</div>\n",
              "      <button class=\"colab-df-convert\" onclick=\"convertToInteractive('df-b95795c4-4b4e-4356-a985-e33d0ae18afb')\"\n",
              "              title=\"Convert this dataframe to an interactive table.\"\n",
              "              style=\"display:none;\">\n",
              "        \n",
              "  <svg xmlns=\"http://www.w3.org/2000/svg\" height=\"24px\"viewBox=\"0 0 24 24\"\n",
              "       width=\"24px\">\n",
              "    <path d=\"M0 0h24v24H0V0z\" fill=\"none\"/>\n",
              "    <path d=\"M18.56 5.44l.94 2.06.94-2.06 2.06-.94-2.06-.94-.94-2.06-.94 2.06-2.06.94zm-11 1L8.5 8.5l.94-2.06 2.06-.94-2.06-.94L8.5 2.5l-.94 2.06-2.06.94zm10 10l.94 2.06.94-2.06 2.06-.94-2.06-.94-.94-2.06-.94 2.06-2.06.94z\"/><path d=\"M17.41 7.96l-1.37-1.37c-.4-.4-.92-.59-1.43-.59-.52 0-1.04.2-1.43.59L10.3 9.45l-7.72 7.72c-.78.78-.78 2.05 0 2.83L4 21.41c.39.39.9.59 1.41.59.51 0 1.02-.2 1.41-.59l7.78-7.78 2.81-2.81c.8-.78.8-2.07 0-2.86zM5.41 20L4 18.59l7.72-7.72 1.47 1.35L5.41 20z\"/>\n",
              "  </svg>\n",
              "      </button>\n",
              "      \n",
              "  <style>\n",
              "    .colab-df-container {\n",
              "      display:flex;\n",
              "      flex-wrap:wrap;\n",
              "      gap: 12px;\n",
              "    }\n",
              "\n",
              "    .colab-df-convert {\n",
              "      background-color: #E8F0FE;\n",
              "      border: none;\n",
              "      border-radius: 50%;\n",
              "      cursor: pointer;\n",
              "      display: none;\n",
              "      fill: #1967D2;\n",
              "      height: 32px;\n",
              "      padding: 0 0 0 0;\n",
              "      width: 32px;\n",
              "    }\n",
              "\n",
              "    .colab-df-convert:hover {\n",
              "      background-color: #E2EBFA;\n",
              "      box-shadow: 0px 1px 2px rgba(60, 64, 67, 0.3), 0px 1px 3px 1px rgba(60, 64, 67, 0.15);\n",
              "      fill: #174EA6;\n",
              "    }\n",
              "\n",
              "    [theme=dark] .colab-df-convert {\n",
              "      background-color: #3B4455;\n",
              "      fill: #D2E3FC;\n",
              "    }\n",
              "\n",
              "    [theme=dark] .colab-df-convert:hover {\n",
              "      background-color: #434B5C;\n",
              "      box-shadow: 0px 1px 3px 1px rgba(0, 0, 0, 0.15);\n",
              "      filter: drop-shadow(0px 1px 2px rgba(0, 0, 0, 0.3));\n",
              "      fill: #FFFFFF;\n",
              "    }\n",
              "  </style>\n",
              "\n",
              "      <script>\n",
              "        const buttonEl =\n",
              "          document.querySelector('#df-b95795c4-4b4e-4356-a985-e33d0ae18afb button.colab-df-convert');\n",
              "        buttonEl.style.display =\n",
              "          google.colab.kernel.accessAllowed ? 'block' : 'none';\n",
              "\n",
              "        async function convertToInteractive(key) {\n",
              "          const element = document.querySelector('#df-b95795c4-4b4e-4356-a985-e33d0ae18afb');\n",
              "          const dataTable =\n",
              "            await google.colab.kernel.invokeFunction('convertToInteractive',\n",
              "                                                     [key], {});\n",
              "          if (!dataTable) return;\n",
              "\n",
              "          const docLinkHtml = 'Like what you see? Visit the ' +\n",
              "            '<a target=\"_blank\" href=https://colab.research.google.com/notebooks/data_table.ipynb>data table notebook</a>'\n",
              "            + ' to learn more about interactive tables.';\n",
              "          element.innerHTML = '';\n",
              "          dataTable['output_type'] = 'display_data';\n",
              "          await google.colab.output.renderOutput(dataTable, element);\n",
              "          const docLink = document.createElement('div');\n",
              "          docLink.innerHTML = docLinkHtml;\n",
              "          element.appendChild(docLink);\n",
              "        }\n",
              "      </script>\n",
              "    </div>\n",
              "  </div>\n",
              "  "
            ],
            "text/plain": [
              "           0         1         2\n",
              "0  -0.500627  0.028554  0.223311\n",
              "1  -0.487827 -0.720946 -0.235490\n",
              "2   0.542182  0.679280  0.097852\n",
              "3   0.227215  0.770937  0.236794\n",
              "4  -0.703363 -0.134093  0.002601\n",
              "5  -0.033872  0.125047  0.702589\n",
              "6   0.007569  0.150476  0.929395\n",
              "7   0.611950  0.602417  0.224452\n",
              "8   0.199944 -0.480648 -0.001599\n",
              "9   0.897624  0.039392  0.038018\n",
              "10  0.860384  0.327582  0.106484"
            ]
          },
          "metadata": {},
          "execution_count": 12
        }
      ]
    },
    {
      "cell_type": "markdown",
      "source": [
        "As we can see here the \n",
        "# Variables 9 and 10, i.e. sit-up counts and broad jump, are significantly loaded in Factor 1.\n",
        "# Variables 2, 3, and 7 (height, weight, and gripForce) are significantly loaded in factor 2.\n",
        "# Variables 5 and 6, i.e. diastolic and systolic pressure, are significantly weighted in factor 3."
      ],
      "metadata": {
        "id": "2JScVucDdD0X"
      }
    },
    {
      "cell_type": "markdown",
      "source": [
        "So, instead of employing all 12 variables, we may focus on these 3 factors in the future. **These 3 factors might be substituted for the 12 variables**\n",
        "\n",
        "Here are the three factors that were formed, and we can **\"interpret\"** them based on the variables they contain:\n",
        "\n",
        "# factor 1 = **Exercise Performed**        \n",
        "# factor 2 = **Physical strength** \n",
        "# factor 3 = **Heart Health**     \n",
        "      \n",
        "\n",
        "\n",
        "SO finally we can conclude Body performance deped on this 3 factors \n",
        "\n",
        "1 How much **workout** an individual do  ?\n",
        "\n",
        "2 What kind of **body and strength** does one have?\n",
        "\n",
        "3 How excellent is his **heart health and endurance**?\n",
        "\n"
      ],
      "metadata": {
        "id": "t3c0PmWceT6b"
      }
    }
  ]
}